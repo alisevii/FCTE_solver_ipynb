{
 "cells": [
  {
   "cell_type": "markdown",
   "metadata": {},
   "source": [
    "# Effective Hamiltonian Solver for Excitons in Oligomers"
   ]
  },
  {
   "cell_type": "code",
   "execution_count": 132,
   "metadata": {
    "collapsed": true
   },
   "outputs": [],
   "source": [
    "import math\n",
    "import numpy as np\n",
    "import matplotlib.pyplot as plt\n",
    "%matplotlib inline"
   ]
  },
  {
   "cell_type": "markdown",
   "metadata": {},
   "source": [
    "### Parameters for Hamiltonian Matrix"
   ]
  },
  {
   "cell_type": "code",
   "execution_count": 133,
   "metadata": {
    "collapsed": true
   },
   "outputs": [],
   "source": [
    "nn_max=3   ## currently enough parameters to include up to nn_max nearest neighbour interactions\n",
    "\n",
    "ehe=[0.032,0.782,-0.388,0.042]  # <cond|h|cond>, ehe[0] - on-site energy, ehe[r] - transfer integrals r units apart\n",
    "hhh=[6.515,0.875,-0.177,0.064]  # <val|h|val>, same\n",
    "\n",
    "J=[9.145,5.360,2.992,1.958]     # direct coulomb terms for different electron-hole distances\n",
    "K=[2.104,0.383,0.048,0.001]     # exchange coulomb terms \n",
    "\n",
    "## Coulomb interaction V=2K-J, for now need to scale J by c1 (Grimme paper), as using DFT not HF energies\n",
    "V=[]\n",
    "c1=0.3\n",
    "for i in range(0,nn_max+1):\n",
    "   V.append(2*K[i]-c1*J[i])\n",
    "\n",
    "# transition dipole moments\n",
    "mu=[[1.080,-0.675,-0.135],          # mux(0) muy(0) muz(0)  # Frenkel exciton\n",
    "    [-0.847,-0.049,-0.055],         # mux(1) muy(1) muz(1)  # CT excitons for distances up to nn_max\n",
    "    [0.435,-0.019,-0.022],          # mux(2) muy(2) muz(2)\n",
    "    [-0.004,-0.018,-0.015]]         # mux(3) muy(3) muz(3)\n",
    "\n",
    "## Transition energy and dipole moment of monomer (nothing to diagonalise, just one \"matrix\" element)\n",
    "E_n1=ehe[0]+hhh[0]+V[0]\n",
    "mu2_n1=np.sum(np.multiply(mu[0],mu[0]))"
   ]
  },
  {
   "cell_type": "markdown",
   "metadata": {},
   "source": [
    "### Functions to diagonalise Hamiltonian and return properties"
   ]
  },
  {
   "cell_type": "code",
   "execution_count": 134,
   "metadata": {
    "collapsed": true
   },
   "outputs": [],
   "source": [
    "def Heff_solve(n,nn,verbose=0):\n",
    "    m=1+2*nn   #no. of submatrix elements\n",
    "    H=np.zeros(shape=(n*m,n*m))\n",
    "    #loop over matrix elements\n",
    "    #ij counts rows, i is electron site, j is hole site\n",
    "    for i in range(0,n):\n",
    "        for j in range(0,m):\n",
    "            #rename variable, j is for counting, jj is hole site\n",
    "            jj=i+j-nn\n",
    "            #kl counts columns, k is electron site, l is for hole\n",
    "            for k in range(0,n):\n",
    "                for l in range(0,m):\n",
    "                    #rename variable, l is for counting, ll is hole site\n",
    "                    ll=k+l-nn\n",
    "                    #matrix indices\n",
    "                    row=m*i+j\n",
    "                    col=m*k+l\n",
    "#                    print(row,col)\n",
    "                    #distances between particles\n",
    "                    dist_ee=abs(i-k)\n",
    "                    dist_hh=abs(jj-ll)\n",
    "                    dist_eh=abs(i-jj)\n",
    "#                    print(dist_ee,dist_hh,dist_eh)\n",
    "                    #electron stationary (same monomer index)\n",
    "                    if i==k:\n",
    "                        #hole stationary (distance is zero, also same monomer index)\n",
    "                        if dist_hh==0:\n",
    "                            #Frenkel or CT exciton energy (e and h dist_eh apart)\n",
    "                            H[row][col]=ehe[0]+hhh[0]+V[dist_eh]\n",
    "                        #electron still stationary, hole jumps to (near) neighbour\n",
    "                        elif dist_hh<=nn:\n",
    "                            H[row][col]=hhh[dist_hh]\n",
    "                    #electron jumps to (near) neighbour\n",
    "                    elif dist_ee<=nn:\n",
    "                        #but only get coupling if hole is stationary\n",
    "                         if dist_hh==0:\n",
    "                                H[row][col]=ehe[dist_ee]\n",
    "                    #Remove PBCs by zeroing terms that would appear only in PBC case\n",
    "                    if jj<0 or jj>n-1 or ll<0 or ll>n-1:\n",
    "                        H[row][col]=0       \n",
    "    #Matrix full, now diagonalise\n",
    "    Hmat=np.matrix(H)\n",
    "    vals, vecs = np.linalg.eig(H)\n",
    "    #order eigenvalues and eigenvectors from highest to lowest transition energy\n",
    "    idx = vals.argsort()[::-1] \n",
    "    vals = vals[idx]\n",
    "    vecs = vecs[:,idx]\n",
    "    if verbose==1:\n",
    "        print(Hmat)\n",
    "        print(vals)\n",
    "    return vals,vecs\n",
    "\n",
    "#return transition energy and dipole moment of given state\n",
    "def calc_mu_dE(n,nn,state,vals,vecs,verbose):\n",
    "    m=1+2*nn       #no. of submatrix elements\n",
    "    mu_n=[0,0,0]   #zero tdm for n-mer\n",
    "#    if verbose==1:\n",
    "#        print(\"Using this eigenvector:\")\n",
    "#        print(vecs[:,state])\n",
    "    for i in range(0,n):  #loop over electron sites\n",
    "        for j in range(0,m):\n",
    "            #rename variable, j is for counting, jj is hole site\n",
    "            jj=i+j-nn\n",
    "            #row index to get correct eigenvecotr element\n",
    "            row=m*i+j\n",
    "            #electron-hole distance to get correct tdm from parameters\n",
    "            dist_eh=abs(i-jj)\n",
    "            mu_n[0] += vecs[row,state]*mu[dist_eh][0]   #x component\n",
    "            mu_n[1] += vecs[row,state]*mu[dist_eh][1]   #y component\n",
    "            mu_n[2] += vecs[row,state]*mu[dist_eh][2]   #z component\n",
    "    if verbose==1:\n",
    "        print(\"n={n}, state={state}, E={e}, mu2_perN={mu2}\".format(n=n,state=state,e=vals[state],mu2=np.sum(np.multiply(mu_n,mu_n))/n))\n",
    "    return mu_n,vals[state]"
   ]
  },
  {
   "cell_type": "markdown",
   "metadata": {},
   "source": [
    "### Calculate some properties for polyacetylene\n",
    "Can change the parameters in the top box to play around with the model and see how increasing nn changes results for different oligomer lengths up to nmax"
   ]
  },
  {
   "cell_type": "code",
   "execution_count": 135,
   "metadata": {
    "collapsed": false
   },
   "outputs": [
    {
     "data": {
      "image/png": "[encoded data removed]",
      "text/plain": [
       "<matplotlib.figure.Figure at 0x113abc518>"
      ]
     },
     "metadata": {},
     "output_type": "display_data"
    }
   ],
   "source": [
    "##############\n",
    "# Parameters #\n",
    "##############\n",
    "nmax=8       # use oligomers up to nmax units long\n",
    "verbose=0    # set to 1 to print out results in addition to plotting them\n",
    "nn=1         # no. of nearest neighbours interacting\n",
    "##############\n",
    "\n",
    "if nn > nn_max:\n",
    "    print(\"ERROR! Only have enough parameters to use nn up to {nn_max}\".format(**locals()))\n",
    "m=2*nn+1           # no. submatrix elements\n",
    "E=[E_n1]           # lists for transition energies and TDM squared for plotting\n",
    "mu2_pern=[mu2_n1]  \n",
    "\n",
    "#calculate energy and TDM for each oligomer length n\n",
    "for n in np.arange(2,nmax+1):\n",
    "    E_n=[]    \n",
    "    mu2_pern_n=[]\n",
    "    vals,vecs=Heff_solve(n,nn)\n",
    "    for state in np.arange(0,n*m):\n",
    "        #get energy and tdm of each state\n",
    "        mu_n_state,E_n_state=calc_mu_dE(n,nn,state,vals,vecs,verbose)\n",
    "        #some E are zero, due to considering finite chains (no PBCs), they're meaningless\n",
    "        if E_n_state != 0:\n",
    "            E_n.append(E_n_state)\n",
    "            #mostly interested in square of TDM per n\n",
    "            mu2_pern_n.append(np.divide(np.sum(np.multiply(mu_n_state,mu_n_state)),n))\n",
    "    E.append(E_n)\n",
    "    mu2_pern.append(mu2_pern_n)\n",
    "\n",
    "# Plot all excitations to get overview\n",
    "for i in range(1,nmax+1):\n",
    "    plt.scatter(E[i-1],mu2_pern[i-1],label=\"n={n}\".format(n=i))\n",
    "plt.title(\"nn={nn}\".format(nn=nn))\n",
    "plt.xlabel(\"Transition energy, eV\")\n",
    "plt.ylabel(\"Transition dipole strength per n, $(ea_0)^2$\")\n",
    "plt.legend()\n",
    "plt.savefig(\"oligoacet_nmax{nmax}_nn{nn}_allTransitions\".format(**locals()))"
   ]
  },
  {
   "cell_type": "markdown",
   "metadata": {},
   "source": [
    "After verifying that for these parameters the brightest (highest dipole strength) excitation is for the lowest energy, plotting what I'm really after - the relationship of energy and dipole strength per monomer as a function of oligomer length for the lowest energy (first) transition"
   ]
  },
  {
   "cell_type": "code",
   "execution_count": 136,
   "metadata": {
    "collapsed": false
   },
   "outputs": [
    {
     "data": {
      "image/png": "[encoded data removed]",
      "text/plain": [
       "<matplotlib.figure.Figure at 0x11421fd30>"
      ]
     },
     "metadata": {},
     "output_type": "display_data"
    }
   ],
   "source": [
    "#Will plot transiiton energy E_low and dipole strength per monomer mu2_pern_low for all oligomer lengths N\n",
    "N=np.arange(1,nmax+1)\n",
    "E_low=[E[0]]                   #first element in list is just a number, not a list\n",
    "mu2_pern_low=[mu2_pern[0]]\n",
    "for i in range(1,nmax):\n",
    "    E_low.append(E[i][-1])     #want lowest energy, so last element (sorted eigenvals in decreasing order)\n",
    "    mu2_pern_low.append(mu2_pern[i][-1])\n",
    "\n",
    "f, axarr = plt.subplots(2, sharex=True)\n",
    "axarr[0].scatter(N,E_low)\n",
    "axarr[1].scatter(N,mu2_pern_low)\n",
    "axarr[0].set_title('Energy and dipole strength of first transition, nn={nn}'.format(**locals()))\n",
    "axarr[0].set_ylabel(\"Energy, eV\")\n",
    "axarr[1].set_ylabel(\"Dipole strength, $(ea_0)^2$\")\n",
    "plt.savefig(\"oligoacet_nmax{nmax}_nn{nn}_lowestTransition\".format(**locals()))"
   ]
  },
  {
   "cell_type": "code",
   "execution_count": null,
   "metadata": {
    "collapsed": true
   },
   "outputs": [],
   "source": []
  }
 ],
 "metadata": {
  "kernelspec": {
   "display_name": "Python 3",
   "language": "python",
   "name": "python3"
  },
  "language_info": {
   "codemirror_mode": {
    "name": "ipython",
    "version": 3
   },
   "file_extension": ".py",
   "mimetype": "text/x-python",
   "name": "python",
   "nbconvert_exporter": "python",
   "pygments_lexer": "ipython3",
   "version": "3.6.0"
  }
 },
 "nbformat": 4,
 "nbformat_minor": 2
}
